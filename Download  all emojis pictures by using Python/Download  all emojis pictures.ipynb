{
 "cells": [
  {
   "cell_type": "code",
   "execution_count": 78,
   "metadata": {},
   "outputs": [],
   "source": [
    "import re\n",
    "import urllib.request"
   ]
  },
  {
   "cell_type": "code",
   "execution_count": 79,
   "metadata": {},
   "outputs": [],
   "source": [
    "def getHtml(url):\n",
    "    page = urllib.request.urlopen(url)\n",
    "    html = page.read()\n",
    "    return html"
   ]
  },
  {
   "cell_type": "code",
   "execution_count": 80,
   "metadata": {},
   "outputs": [],
   "source": [
    "html = getHtml(\"http://unicode.org/emoji/charts/emoji-list.html\")\n",
    "html = html.decode('UTF-8')"
   ]
  },
  {
   "cell_type": "code",
   "execution_count": 81,
   "metadata": {},
   "outputs": [],
   "source": [
    "emojis=[]\n",
    "num1=0\n",
    "num2=0\n",
    "i=0\n",
    "a=0\n",
    "while i <= len(html):\n",
    "    num1=html[i:].find('class=\\'imga\\' src=\\'')\n",
    "    num2=html[i:].find('\\' title=')\n",
    "    emojis.append(html[i+num1+18:i+num2])\n",
    "    i=i+num2+1\n",
    "    a=a+1\n",
    "    if a>1644:\n",
    "        break\n",
    "emojis=emojis[1:]"
   ]
  },
  {
   "cell_type": "code",
   "execution_count": 82,
   "metadata": {},
   "outputs": [],
   "source": [
    "x=0\n",
    "emojis_Code=[]\n",
    "num3=0\n",
    "num4=0\n",
    "num5=0\n",
    "b=0\n",
    "while len(emojis_Code)<1644:\n",
    "    num5=html[x:].find(\"class=\\'code\\'\" )\n",
    "    num3=html[x+num5:].find('\\'>U+' )\n",
    "    num4=html[x+num3+num5:].find('</a>')\n",
    "    emojis_Code.append(html[x+num3+2+num5:x+num3+num4+num5])\n",
    "    b=b+1\n",
    "    if b>1644:\n",
    "        break\n",
    "    x=x+num3+num4+num5+1"
   ]
  },
  {
   "cell_type": "code",
   "execution_count": 83,
   "metadata": {},
   "outputs": [
    {
     "name": "stdout",
     "output_type": "stream",
     "text": [
      "OK,Done\n"
     ]
    }
   ],
   "source": [
    "#download all picture\n",
    "i=0\n",
    "for i in range(len(emojis)):\n",
    "    if emojis[i]=='':\n",
    "        continue\n",
    "    urllib.request.urlretrieve (emojis[i],'D:/工作/PRIMOJIS/AlanChi_emojis_all picture/%s.png'%emojis_Code[i])\n",
    "print(\"OK,Done\")"
   ]
  },
  {
   "cell_type": "code",
   "execution_count": null,
   "metadata": {},
   "outputs": [],
   "source": []
  },
  {
   "cell_type": "code",
   "execution_count": null,
   "metadata": {},
   "outputs": [],
   "source": []
  },
  {
   "cell_type": "code",
   "execution_count": null,
   "metadata": {},
   "outputs": [],
   "source": []
  },
  {
   "cell_type": "code",
   "execution_count": 44,
   "metadata": {},
   "outputs": [],
   "source": []
  },
  {
   "cell_type": "code",
   "execution_count": null,
   "metadata": {},
   "outputs": [],
   "source": []
  },
  {
   "cell_type": "code",
   "execution_count": 103,
   "metadata": {},
   "outputs": [],
   "source": []
  },
  {
   "cell_type": "code",
   "execution_count": null,
   "metadata": {},
   "outputs": [],
   "source": []
  },
  {
   "cell_type": "code",
   "execution_count": null,
   "metadata": {},
   "outputs": [],
   "source": []
  },
  {
   "cell_type": "code",
   "execution_count": null,
   "metadata": {},
   "outputs": [],
   "source": []
  },
  {
   "cell_type": "code",
   "execution_count": null,
   "metadata": {},
   "outputs": [],
   "source": [
    "\n"
   ]
  },
  {
   "cell_type": "code",
   "execution_count": null,
   "metadata": {},
   "outputs": [],
   "source": []
  },
  {
   "cell_type": "code",
   "execution_count": null,
   "metadata": {},
   "outputs": [],
   "source": [
    "\n"
   ]
  },
  {
   "cell_type": "code",
   "execution_count": null,
   "metadata": {},
   "outputs": [],
   "source": [
    "\n"
   ]
  },
  {
   "cell_type": "code",
   "execution_count": null,
   "metadata": {},
   "outputs": [],
   "source": []
  }
 ],
 "metadata": {
  "kernelspec": {
   "display_name": "Python 3",
   "language": "python",
   "name": "python3"
  },
  "language_info": {
   "codemirror_mode": {
    "name": "ipython",
    "version": 3
   },
   "file_extension": ".py",
   "mimetype": "text/x-python",
   "name": "python",
   "nbconvert_exporter": "python",
   "pygments_lexer": "ipython3",
   "version": "3.6.1"
  }
 },
 "nbformat": 4,
 "nbformat_minor": 2
}
